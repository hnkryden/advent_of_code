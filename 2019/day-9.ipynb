{
 "cells": [
  {
   "cell_type": "code",
   "execution_count": 1,
   "metadata": {},
   "outputs": [],
   "source": [
    "f = open('day-9.txt')\n",
    "inStr = f.readline()"
   ]
  },
  {
   "cell_type": "code",
   "execution_count": 92,
   "metadata": {},
   "outputs": [],
   "source": [
    "class intCode():\n",
    "    def __init__(self,inputSignal = [],codebase=0):\n",
    "        self.codeBase = codebase\n",
    "        self.inputSignal = inputSignal\n",
    "    \n",
    "    def getAddressValue(self,param,mode,data):\n",
    "        if  mode==1: # Immediate mode\n",
    "            return param\n",
    "        elif mode ==0:# Position mode\n",
    "            return data[param]\n",
    "        elif mode == 2:# Relative mode\n",
    "            return data[self.codeBase+param]\n",
    "        else:\n",
    "            raise(\"ERROR\")\n",
    "        return 0\n",
    "    def getAddress(self,param,mode,data):\n",
    "        if  mode==1: # Immediate mode\n",
    "            return param\n",
    "        elif mode ==0:# Position mode\n",
    "            return param\n",
    "        elif mode == 2:# Relative mode\n",
    "            return self.codeBase+param\n",
    "        else:\n",
    "            raise(\"ERROR\")\n",
    "        return 0\n",
    "\n",
    "    def getCode(self,data,pos=0,instructions=0):\n",
    "        output = []\n",
    "        while data[pos]!=99:\n",
    "            code = format(data[pos], '05d')\n",
    "            opcode = int(code[3:])\n",
    "            i1 = int(code[2])\n",
    "            i2 = int(code[1])\n",
    "            i3 = int(code[0])\n",
    "            param1 = data[pos+1]\n",
    "            param2 = data[pos+2]\n",
    "            param3 = data[pos+3]\n",
    "            val1 = self.getAddressValue(param1,i1,data)\n",
    "            \n",
    "            if opcode == 4:\n",
    "                pos += 2\n",
    "                print(\"Output \" ,val1)\n",
    "                #return pos,val1 #output.append(val1)\n",
    "            elif opcode == 3:\n",
    "                if len(self.inputSignal) <= instructions:\n",
    "                    raise(\"ERROR; need more inputs\")\n",
    "                ID = self.inputSignal[instructions]\n",
    "                instructions += 1\n",
    "                data[self.getAddress(param1,i1,data)] = ID\n",
    "                pos += 2\n",
    "            elif opcode == 9:\n",
    "                self.codeBase += val1\n",
    "                pos += 2\n",
    "            else:\n",
    "                val2 = self.getAddressValue(param2,i2,data)\n",
    "\n",
    "                if opcode==5:\n",
    "                    if val1 > 0:\n",
    "                        pos = val2\n",
    "                    else:\n",
    "                        pos += 3\n",
    "                elif opcode ==6:\n",
    "                    if val1 == 0:\n",
    "                        pos = val2\n",
    "                    else:\n",
    "                        pos += 3\n",
    "                else:\n",
    "                    val3 = self.getAddress(param3,i3,data)\n",
    "                    if opcode==1:\n",
    "                        data[val3] = val1+val2\n",
    "                    elif opcode == 2: \n",
    "                        data[val3] = val1*val2\n",
    "                    elif opcode ==7:\n",
    "                        if val1 < val2:\n",
    "                            data[val3] = 1\n",
    "                        else:\n",
    "                            data[val3] = 0\n",
    "                    elif opcode ==8:\n",
    "                        if val1 == val2:\n",
    "                            data[val3] = 1    \n",
    "                        else:\n",
    "                            data[val3] = 0\n",
    "                    pos += 4\n",
    "\n",
    "        return -1,-1\n"
   ]
  },
  {
   "cell_type": "code",
   "execution_count": 93,
   "metadata": {},
   "outputs": [
    {
     "name": "stdout",
     "output_type": "stream",
     "text": [
      "Output  3518157894\n"
     ]
    }
   ],
   "source": [
    "data = [int(tmp) for tmp in inStr.split(',')]\n",
    "for i in range(100000):\n",
    "    data.append(0)\n",
    "\n",
    "intcode = intCode(inputSignal=[1])\n",
    "_,_ = intcode.getCode(data)\n"
   ]
  },
  {
   "cell_type": "code",
   "execution_count": 94,
   "metadata": {},
   "outputs": [
    {
     "name": "stdout",
     "output_type": "stream",
     "text": [
      "Output  80379\n"
     ]
    }
   ],
   "source": [
    "data = [int(tmp) for tmp in inStr.split(',')]\n",
    "for i in range(100000):\n",
    "    data.append(0)\n",
    "\n",
    "intcode = intCode(inputSignal=[2])\n",
    "_,_ = intcode.getCode(data)\n"
   ]
  },
  {
   "cell_type": "code",
   "execution_count": null,
   "metadata": {},
   "outputs": [],
   "source": []
  }
 ],
 "metadata": {
  "kernelspec": {
   "display_name": "Python 3",
   "language": "python",
   "name": "python3"
  },
  "language_info": {
   "codemirror_mode": {
    "name": "ipython",
    "version": 3
   },
   "file_extension": ".py",
   "mimetype": "text/x-python",
   "name": "python",
   "nbconvert_exporter": "python",
   "pygments_lexer": "ipython3",
   "version": "3.6.8"
  }
 },
 "nbformat": 4,
 "nbformat_minor": 2
}
