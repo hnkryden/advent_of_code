{
 "cells": [
  {
   "cell_type": "code",
   "execution_count": 47,
   "metadata": {},
   "outputs": [],
   "source": [
    "f = open('day-7.txt')\n",
    "inStr = f.readline()"
   ]
  },
  {
   "cell_type": "code",
   "execution_count": 138,
   "metadata": {},
   "outputs": [],
   "source": [
    "\n",
    "def getCode(data,phase,inputSignal,pos,instructions):\n",
    "    output = []\n",
    "    while data[pos]!=99:\n",
    "        code = format(data[pos], '05d')\n",
    "        opcode = int(code[3:])\n",
    "        i1 = int(code[2])\n",
    "        i2 = int(code[1])\n",
    "        i3 = int(code[0])\n",
    "        #print(opcode)\n",
    "        if i1==1:\n",
    "            val1 = data[pos+1]\n",
    "        else:\n",
    "            val1 = data[data[pos+1]]\n",
    "        if opcode == 4:\n",
    "            pos += 2\n",
    "            return pos,val1 #output.append(val1)\n",
    "        elif opcode == 3:\n",
    "            if instructions == 0:\n",
    "                ID = phase\n",
    "            elif instructions == 1:\n",
    "                ID = inputSignal\n",
    "            else:\n",
    "                raise(\"error\")\n",
    "            instructions += 1\n",
    "            data[data[pos+1]] = ID\n",
    "            pos += 2\n",
    "        else:\n",
    "            if i2==1:\n",
    "                val2 = data[pos+2]\n",
    "            else:\n",
    "                val2 = data[data[pos+2]]\n",
    "            if opcode==5:\n",
    "                if val1 > 0:\n",
    "                    pos = val2\n",
    "                else:\n",
    "                    pos += 3\n",
    "            elif opcode ==6:\n",
    "                if val1 == 0:\n",
    "                    pos = val2\n",
    "                else:\n",
    "                    pos += 3\n",
    "            else:\n",
    "                if i3==0:\n",
    "                    val3 = data[pos+3]\n",
    "                else:\n",
    "                    print(\"Dont understand!\")\n",
    "                    val3 = data[data[pos+3]]\n",
    "                if opcode==1:\n",
    "                    data[val3] = val1+val2\n",
    "                elif opcode == 2: \n",
    "                    data[val3] = val1*val2\n",
    "                elif opcode ==7:\n",
    "                    if val1 < val2:\n",
    "                        data[val3] = 1\n",
    "                    else:\n",
    "                        data[val3] = 0\n",
    "                elif opcode ==8:\n",
    "                    if val1 == val2:\n",
    "                        data[val3] = 1    \n",
    "                    else:\n",
    "                        data[val3] = 0\n",
    "                pos += 4\n",
    "\n",
    "    return -1,-1\n"
   ]
  },
  {
   "cell_type": "code",
   "execution_count": 139,
   "metadata": {},
   "outputs": [],
   "source": [
    "\n",
    "def getOutputA(data,a,b,c,d,e,start):\n",
    "    dataA,dataB,dataC,dataD,dataE = list(data),list(data),list(data),list(data),list(data)\n",
    "    _,outA = getCode(dataA,a,start,0,0)\n",
    "    _,outB = getCode(dataB,b,outA,0,0)\n",
    "    _,outC = getCode(dataC,c,outB,0,0)\n",
    "    _,outD = getCode(dataD,d,outC,0,0)\n",
    "    _,outE = getCode(dataE,e,outD,0,0)\n",
    "    \n",
    "    return outE\n"
   ]
  },
  {
   "cell_type": "code",
   "execution_count": 140,
   "metadata": {},
   "outputs": [
    {
     "name": "stdout",
     "output_type": "stream",
     "text": [
      "A= 262086\n"
     ]
    }
   ],
   "source": [
    "result = []\n",
    "for a in range(5):\n",
    "    for b in range(5):\n",
    "        for c in range(5):\n",
    "            for d in range(5):\n",
    "                for e in range(5):\n",
    "                    tmp = ''.join(set(str(a)+str(b)+str(c)+str(d)+str(e)))\n",
    "                    if len(tmp)==5:\n",
    "                        data = [int(tmp) for tmp in inStr.split(',')]\n",
    "                        res = getOutputA(data,a,b,c,d,e,0)\n",
    "                        result.append(res)\n",
    "    \n",
    "print(\"A=\", max(result))     "
   ]
  },
  {
   "cell_type": "code",
   "execution_count": 141,
   "metadata": {},
   "outputs": [],
   "source": [
    "\n",
    "def getOutputB(data,a,b,c,d,e):\n",
    "    dataA,dataB,dataC,dataD,dataE = list(data),list(data),list(data),list(data),list(data)\n",
    "    outE = 0\n",
    "    instr = 0\n",
    "    posA,posB,posC,posD,posE = 0,0,0,0,0\n",
    "    result = []\n",
    "    while outE!=-1:\n",
    "        posA,outA = getCode(dataA,a,outE,posA,instr)\n",
    "        posB,outB = getCode(dataB,b,outA,posB,instr)\n",
    "        posC,outC = getCode(dataC,c,outB,posC,instr)\n",
    "        posD,outD = getCode(dataD,d,outC,posD,instr)\n",
    "        posE,outE = getCode(dataE,e,outD,posE,instr)\n",
    "        instr = 1\n",
    "        result.append(outE)\n",
    "    return max(result)\n"
   ]
  },
  {
   "cell_type": "code",
   "execution_count": 142,
   "metadata": {},
   "outputs": [
    {
     "name": "stdout",
     "output_type": "stream",
     "text": [
      "B =  5371621\n"
     ]
    }
   ],
   "source": [
    "result = []\n",
    "for a in range(5,10):\n",
    "    for b in range(5,10):\n",
    "        for c in range(5,10):\n",
    "            for d in range(5,10):\n",
    "                for e in range(5,10):\n",
    "                    tmp = ''.join(set(str(a)+str(b)+str(c)+str(d)+str(e)))\n",
    "                    if len(tmp)==5:\n",
    "                        data = [int(tmp) for tmp in inStr.split(',')]\n",
    "                        res = getOutputB(data,a,b,c,d,e)\n",
    "                        result.append(res)\n",
    "print(\"B = \", max(result))"
   ]
  }
 ],
 "metadata": {
  "kernelspec": {
   "display_name": "Python 3",
   "language": "python",
   "name": "python3"
  },
  "language_info": {
   "codemirror_mode": {
    "name": "ipython",
    "version": 3
   },
   "file_extension": ".py",
   "mimetype": "text/x-python",
   "name": "python",
   "nbconvert_exporter": "python",
   "pygments_lexer": "ipython3",
   "version": "3.6.8"
  }
 },
 "nbformat": 4,
 "nbformat_minor": 2
}
