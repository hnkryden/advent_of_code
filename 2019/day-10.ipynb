{
 "cells": [
  {
   "cell_type": "code",
   "execution_count": 29,
   "metadata": {},
   "outputs": [
    {
     "data": {
      "text/plain": [
       "['.###.#...#.#.##.#.####..',\n",
       " '.#....#####...#.######..',\n",
       " '#.#.###.###.#.....#.####',\n",
       " '##.###..##..####.#.####.',\n",
       " '###########.#######.##.#',\n",
       " '##########.#########.##.',\n",
       " '.#.##.########.##...###.',\n",
       " '###.#.##.#####.#.###.###',\n",
       " '##.#####.##..###.#.##.#.',\n",
       " '.#.#.#####.####.#..#####',\n",
       " '.###.#####.#..#..##.#.##',\n",
       " '########.##.#...########',\n",
       " '.####..##..#.###.###.#.#',\n",
       " '....######.##.#.######.#',\n",
       " '###.####.######.#....###',\n",
       " '############.#.#.##.####',\n",
       " '##...##..####.####.#..##',\n",
       " '.###.#########.###..#.##',\n",
       " '#.##.#.#...##...#####..#',\n",
       " '##.#..###############.##',\n",
       " '##.###.#####.##.######..',\n",
       " '##.#####.#.#.##..#######',\n",
       " '...#######.######...####',\n",
       " '#....#.#.#.####.#.#.#.##']"
      ]
     },
     "execution_count": 29,
     "metadata": {},
     "output_type": "execute_result"
    }
   ],
   "source": [
    "import numpy as np\n",
    "f= open(\"day-10.txt\")\n",
    "#f = open(\"test.txt\")\n",
    "grid = [line.strip() for line in f.readlines()]\n",
    "height, width = len(grid),len(grid[0])\n",
    "grid"
   ]
  },
  {
   "cell_type": "code",
   "execution_count": 30,
   "metadata": {},
   "outputs": [],
   "source": [
    "def getAngle(x,y):\n",
    "    angle = np.arctan2(x,y) * 180 / np.pi\n",
    "    if angle <0:\n",
    "        angle += 360\n",
    "    return np.round(angle,5)\n",
    "\n",
    "def getNumAngles(grid,targetW,targetH):\n",
    "    angles = []\n",
    "    for w in range(width):\n",
    "        for h in range(height):\n",
    "            if (targetH==h) and (targetW==w):\n",
    "                tmp = 1\n",
    "            elif grid[h][w] == '#':\n",
    "                angle = getAngle(w-targetW,targetH-h)\n",
    "                angles.append(angle)\n",
    "    return len(np.unique(angles))"
   ]
  },
  {
   "cell_type": "code",
   "execution_count": 31,
   "metadata": {},
   "outputs": [
    {
     "name": "stdout",
     "output_type": "stream",
     "text": [
      "A =  280\n",
      "20 18\n"
     ]
    }
   ],
   "source": [
    "best = 0\n",
    "bestH = 0\n",
    "bestW = 0\n",
    "for w in range(width):\n",
    "    for h in range(height):\n",
    "        res = getNumAngles(grid,w,h)\n",
    "        if res > best:\n",
    "            best = res\n",
    "            bestH = h\n",
    "            bestW = w\n",
    "print(\"A = \",best)\n",
    "print(bestW,bestH)\n",
    "\n",
    "d = dict()\n",
    "angles = []\n",
    "for w in range(width):\n",
    "    for h in range(height):\n",
    "        if (bestH==h) and (bestW==w):\n",
    "            tmp = 1 #print(\"\")\n",
    "        elif grid[h][w] == '#':\n",
    "            angle = getAngle(w-bestW,bestH-h)\n",
    "            angles.append(angle)\n",
    "            dist  = np.abs(h-bestH) + np.abs(w-bestW)\n",
    "            if not angle in d:\n",
    "                d[angle] = []\n",
    "            d[angle].append([dist,w,h])\n"
   ]
  },
  {
   "cell_type": "code",
   "execution_count": 32,
   "metadata": {},
   "outputs": [
    {
     "name": "stdout",
     "output_type": "stream",
     "text": [
      "20 18\n",
      "B =  706\n"
     ]
    }
   ],
   "source": [
    "from operator import itemgetter\n",
    "for key in sorted(d.keys()):\n",
    "    data = np.array(d[key])\n",
    "    col = 0\n",
    "    data = data[np.argsort(data[:,col])]\n",
    "    d[key] = data\n",
    "circleRound = 0\n",
    "roids = 0\n",
    "while roids < 200:\n",
    "    for key in sorted(d.keys()):\n",
    "        if len(d[key]) > circleRound:\n",
    "            roids += 1\n",
    "            if roids == 200:\n",
    "                b = d[key][circleRound]\n",
    "                print(\"B = \",b[1]*100+b[2]) #d[key],round)\n",
    "                break\n",
    "    circleRound += 1"
   ]
  }
 ],
 "metadata": {
  "kernelspec": {
   "display_name": "Python 3",
   "language": "python",
   "name": "python3"
  },
  "language_info": {
   "codemirror_mode": {
    "name": "ipython",
    "version": 3
   },
   "file_extension": ".py",
   "mimetype": "text/x-python",
   "name": "python",
   "nbconvert_exporter": "python",
   "pygments_lexer": "ipython3",
   "version": "3.6.8"
  }
 },
 "nbformat": 4,
 "nbformat_minor": 2
}
