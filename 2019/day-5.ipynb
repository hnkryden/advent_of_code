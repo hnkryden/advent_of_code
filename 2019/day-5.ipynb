{
 "cells": [
  {
   "cell_type": "code",
   "execution_count": 9,
   "metadata": {},
   "outputs": [],
   "source": [
    "f = open('day-5.txt')\n",
    "inStr = f.readline()"
   ]
  },
  {
   "cell_type": "code",
   "execution_count": 95,
   "metadata": {},
   "outputs": [
    {
     "name": "stdout",
     "output_type": "stream",
     "text": [
      "*** A ***\n",
      "code= 0\n",
      "code= 0\n",
      "code= 0\n",
      "code= 0\n",
      "code= 0\n",
      "code= 0\n",
      "code= 0\n",
      "code= 0\n",
      "code= 0\n",
      "code= 16209841\n",
      "*** B ***\n",
      "code= 8834787\n"
     ]
    }
   ],
   "source": [
    "dataA = [int(tmp) for tmp in inStr.split(',')]\n",
    "dataB = [int(tmp) for tmp in inStr.split(',')]\n",
    "\n",
    "\n",
    "def getCode(data,ID):\n",
    "    pos = 0\n",
    "    while data[pos]!=99:\n",
    "        code = format(data[pos], '05d')\n",
    "        #print(pos,code)\n",
    "        \n",
    "        opcode = int(code[3:])\n",
    "        i1 = int(code[2])\n",
    "        i2 = int(code[1])\n",
    "        i3 = int(code[0])\n",
    "        #print(opcode)\n",
    "        if i1==1:\n",
    "            val1 = data[pos+1]\n",
    "        else:\n",
    "            val1 = data[data[pos+1]]\n",
    "        if opcode == 4:\n",
    "            print(\"code=\",val1)\n",
    "            pos += 2\n",
    "        elif opcode == 3:\n",
    "            data[data[pos+1]] = ID\n",
    "            pos += 2\n",
    "        else:\n",
    "            if i2==1:\n",
    "                val2 = data[pos+2]\n",
    "            else:\n",
    "                val2 = data[data[pos+2]]\n",
    "            if opcode==5:\n",
    "                if val1 > 0:\n",
    "                    pos = val2\n",
    "                else:\n",
    "                    pos += 3\n",
    "            elif opcode ==6:\n",
    "                if val1 == 0:\n",
    "                    pos = val2\n",
    "                else:\n",
    "                    pos += 3\n",
    "            else:\n",
    "                if i3==0:\n",
    "                    val3 = data[pos+3]\n",
    "                else:\n",
    "                    print(\"Dont understand!\")\n",
    "                    val3 = data[data[pos+3]]\n",
    "                #print(\"hej \",val1,val2,val3)\n",
    "                if opcode==1:\n",
    "                    data[val3] = val1+val2\n",
    "                elif opcode == 2: \n",
    "                    data[val3] = val1*val2\n",
    "                elif opcode ==7:\n",
    "                    if val1 < val2:\n",
    "                        data[val3] = 1\n",
    "                    else:\n",
    "                        data[val3] = 0\n",
    "                elif opcode ==8:\n",
    "                    #print(\"a \", val1,val2,val3,i1,i2)\n",
    "                    if val1 == val2:\n",
    "                        data[val3] = 1    \n",
    "                    else:\n",
    "                        data[val3] = 0\n",
    "                pos += 4\n",
    "        #print(data,pos)\n",
    "    return\n",
    "print(\"*** A ***\")\n",
    "getCode(dataA,1)\n",
    "print(\"*** B ***\")\n",
    "getCode(dataB,5)\n",
    "\n",
    "#[3,9,8,9,10,9,4,9,99,-1,8 ]"
   ]
  },
  {
   "cell_type": "code",
   "execution_count": null,
   "metadata": {},
   "outputs": [],
   "source": []
  }
 ],
 "metadata": {
  "kernelspec": {
   "display_name": "Python 3",
   "language": "python",
   "name": "python3"
  },
  "language_info": {
   "codemirror_mode": {
    "name": "ipython",
    "version": 3
   },
   "file_extension": ".py",
   "mimetype": "text/x-python",
   "name": "python",
   "nbconvert_exporter": "python",
   "pygments_lexer": "ipython3",
   "version": "3.6.8"
  }
 },
 "nbformat": 4,
 "nbformat_minor": 2
}
