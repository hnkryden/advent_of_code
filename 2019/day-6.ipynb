{
 "cells": [
  {
   "cell_type": "code",
   "execution_count": 86,
   "metadata": {},
   "outputs": [],
   "source": [
    "f = open('day-6.txt')\n",
    "lines = f.readlines()\n"
   ]
  },
  {
   "cell_type": "code",
   "execution_count": 87,
   "metadata": {},
   "outputs": [],
   "source": [
    "d = dict()\n",
    "\n",
    "for line in lines:\n",
    "    l = line.strip().split(')')\n",
    "    if not l[1] in d:\n",
    "        d[l[1]] = []\n",
    "    d[l[1]].append(l[0])"
   ]
  },
  {
   "cell_type": "code",
   "execution_count": 88,
   "metadata": {},
   "outputs": [
    {
     "name": "stdout",
     "output_type": "stream",
     "text": [
      "A= 158090\n"
     ]
    }
   ],
   "source": [
    "def getPath(data,current):\n",
    "    if current in data:\n",
    "        return 1 + getPath(data,data[current][0])\n",
    "    return 0\n",
    "tot = 0\n",
    "for key,val in d.items():\n",
    "    if len(val)>1:\n",
    "        raise(\"error\")\n",
    "    paths = getPath(d,key)\n",
    "    tot += paths\n",
    "print(\"A=\",tot)"
   ]
  },
  {
   "cell_type": "code",
   "execution_count": 89,
   "metadata": {},
   "outputs": [],
   "source": [
    "def getPathsB(data,current,target):\n",
    "    if current == target:\n",
    "        return -1\n",
    "    if current in data:\n",
    "        tot = []\n",
    "        for elem in data[current]:\n",
    "            tot.append(1 + getPathsB(data,elem,target))\n",
    "        return min(tot)\n",
    "    return 1000000\n",
    "d = dict()\n",
    "for line in lines:\n",
    "    l = line.strip().split(')')\n",
    "    if not l[0] in d:\n",
    "        d[l[0]] = []\n",
    "    d[l[0]].append(l[1])"
   ]
  },
  {
   "cell_type": "code",
   "execution_count": 91,
   "metadata": {},
   "outputs": [
    {
     "name": "stdout",
     "output_type": "stream",
     "text": [
      "B= 241\n"
     ]
    }
   ],
   "source": [
    "tot = []\n",
    "for key,val in d.items():\n",
    "    pathsSan = getPathsB(d,key,'SAN')\n",
    "    pathsYou = getPathsB(d,key,'YOU')\n",
    "    #print(\"paths\",key,val,pathsSan,pathsYou)\n",
    "    tot.append(pathsSan+pathsYou)\n",
    "print(\"B=\",min(tot))"
   ]
  }
 ],
 "metadata": {
  "kernelspec": {
   "display_name": "Python 3",
   "language": "python",
   "name": "python3"
  },
  "language_info": {
   "codemirror_mode": {
    "name": "ipython",
    "version": 3
   },
   "file_extension": ".py",
   "mimetype": "text/x-python",
   "name": "python",
   "nbconvert_exporter": "python",
   "pygments_lexer": "ipython3",
   "version": "3.6.8"
  }
 },
 "nbformat": 4,
 "nbformat_minor": 2
}
