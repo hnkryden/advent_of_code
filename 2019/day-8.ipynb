{
 "cells": [
  {
   "cell_type": "code",
   "execution_count": 51,
   "metadata": {},
   "outputs": [],
   "source": [
    "f = open(\"day-8.txt\")\n",
    "line = f.readline().strip()"
   ]
  },
  {
   "cell_type": "code",
   "execution_count": 56,
   "metadata": {},
   "outputs": [
    {
     "name": "stdout",
     "output_type": "stream",
     "text": [
      "A =  1572\n"
     ]
    }
   ],
   "source": [
    "import numpy as np\n",
    "width = 25\n",
    "height = 6\n",
    "\n",
    "layers = int(len(line)/(width*height))\n",
    "res    = np.zeros((int(layers),10))\n",
    "for i in range(len(line)):\n",
    "    pixel = int(line[i])\n",
    "    layer = int(i / (width*height))\n",
    "    res[layer,pixel] += 1\n",
    "layermin = np.argmin(res,axis=0)[0]\n",
    "print(\"A = \", int(res[layermin,1] * res[layermin,2]) )\n"
   ]
  },
  {
   "cell_type": "code",
   "execution_count": 66,
   "metadata": {},
   "outputs": [
    {
     "data": {
      "text/plain": [
       "<matplotlib.image.AxesImage at 0x1133ceeb8>"
      ]
     },
     "execution_count": 66,
     "metadata": {},
     "output_type": "execute_result"
    },
    {
     "data": {
      "image/png": "[encoded data removed]",
      "text/plain": [
       "<Figure size 432x288 with 1 Axes>"
      ]
     },
     "metadata": {
      "needs_background": "light"
     },
     "output_type": "display_data"
    }
   ],
   "source": [
    "pic = 2 * np.ones((width,height))\n",
    "\n",
    "for layer in range(layers):\n",
    "    for w in range(width):\n",
    "        for h in range(height):\n",
    "            i = (layer * width * height) + h*width + w\n",
    "            pixel = int(line[i])\n",
    "            if pic[w,h] == 2:\n",
    "                pic[w,h] = pixel\n",
    "import matplotlib.pyplot as plt\n",
    "plt.imshow(pic.transpose())"
   ]
  }
 ],
 "metadata": {
  "kernelspec": {
   "display_name": "Python 3",
   "language": "python",
   "name": "python3"
  },
  "language_info": {
   "codemirror_mode": {
    "name": "ipython",
    "version": 3
   },
   "file_extension": ".py",
   "mimetype": "text/x-python",
   "name": "python",
   "nbconvert_exporter": "python",
   "pygments_lexer": "ipython3",
   "version": "3.6.8"
  }
 },
 "nbformat": 4,
 "nbformat_minor": 2
}
