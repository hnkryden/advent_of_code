{
 "cells": [
  {
   "cell_type": "code",
   "execution_count": 25,
   "metadata": {},
   "outputs": [],
   "source": [
    "start = 402328\n",
    "stop  = 864247\n",
    "\n",
    "def check(key):\n",
    "    keystr = str(key)\n",
    "    ok = True\n",
    "    for i in range(5):\n",
    "        if keystr[i] > keystr[i+1]:\n",
    "            ok = False\n",
    "    unique = ''.join(set(keystr))\n",
    "    if (len(unique) == 6):\n",
    "        ok = False\n",
    "    return ok"
   ]
  },
  {
   "cell_type": "code",
   "execution_count": 31,
   "metadata": {},
   "outputs": [
    {
     "name": "stdout",
     "output_type": "stream",
     "text": [
      "A= 454\n",
      "B= 288\n"
     ]
    }
   ],
   "source": [
    "res = 0\n",
    "for i in range(start,stop+1):\n",
    "    if check(i):\n",
    "        res+=1\n",
    "        \n",
    "print(\"A=\",res)\n",
    "    \n",
    "    \n",
    "res = 0\n",
    "for i in range(start,stop+1):\n",
    "    if check(i):\n",
    "        if(checkB(i)):\n",
    "            res+=1\n",
    "        \n",
    "print(\"B=\",res)\n"
   ]
  },
  {
   "cell_type": "code",
   "execution_count": 29,
   "metadata": {},
   "outputs": [],
   "source": [
    "def checkB(key):\n",
    "    keystr = str(key)\n",
    "    unique = ''.join(set(keystr))\n",
    "    ok = False\n",
    "    for a in unique:\n",
    "        if keystr.count(a)==2:\n",
    "            ok=True\n",
    "    return ok\n",
    "    "
   ]
  },
  {
   "cell_type": "code",
   "execution_count": 30,
   "metadata": {},
   "outputs": [
    {
     "name": "stdout",
     "output_type": "stream",
     "text": [
      "False\n"
     ]
    }
   ],
   "source": [
    "print(checkB(444444))"
   ]
  },
  {
   "cell_type": "code",
   "execution_count": 27,
   "metadata": {},
   "outputs": [
    {
     "data": {
      "text/plain": [
       "'402328'"
      ]
     },
     "execution_count": 27,
     "metadata": {},
     "output_type": "execute_result"
    }
   ],
   "source": [
    "t"
   ]
  },
  {
   "cell_type": "code",
   "execution_count": 28,
   "metadata": {},
   "outputs": [
    {
     "data": {
      "text/plain": [
       "1"
      ]
     },
     "execution_count": 28,
     "metadata": {},
     "output_type": "execute_result"
    }
   ],
   "source": [
    "t.count('4')"
   ]
  },
  {
   "cell_type": "code",
   "execution_count": null,
   "metadata": {},
   "outputs": [],
   "source": []
  }
 ],
 "metadata": {
  "kernelspec": {
   "display_name": "Python 3",
   "language": "python",
   "name": "python3"
  },
  "language_info": {
   "codemirror_mode": {
    "name": "ipython",
    "version": 3
   },
   "file_extension": ".py",
   "mimetype": "text/x-python",
   "name": "python",
   "nbconvert_exporter": "python",
   "pygments_lexer": "ipython3",
   "version": "3.6.8"
  }
 },
 "nbformat": 4,
 "nbformat_minor": 2
}
