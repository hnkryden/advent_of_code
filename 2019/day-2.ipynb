{
 "cells": [
  {
   "cell_type": "code",
   "execution_count": 9,
   "metadata": {},
   "outputs": [],
   "source": [
    "f = open('day-2.txt')\n",
    "inStr = f.readline()"
   ]
  },
  {
   "cell_type": "code",
   "execution_count": 10,
   "metadata": {},
   "outputs": [],
   "source": []
  },
  {
   "cell_type": "code",
   "execution_count": 24,
   "metadata": {},
   "outputs": [
    {
     "name": "stdout",
     "output_type": "stream",
     "text": [
      "3166704\n"
     ]
    }
   ],
   "source": [
    "data = [int(tmp) for tmp in inStr.split(',')]\n",
    "\n",
    "data[1] = 12\n",
    "data[2] = 2\n",
    "\n",
    "#data = [1,1,1,4,99,5,6,0,99]\n",
    "#data = [1,0,0,0,99]\n",
    "\n",
    "def getCode(data):\n",
    "    pos = 0\n",
    "    while data[pos]!=99:\n",
    "        opcode = data[pos]\n",
    "        val1 = data[data[pos+1]]\n",
    "        val2 = data[data[pos+2]]\n",
    "        setPos = data[pos+3]\n",
    "        #print(val1,val2,setPos)\n",
    "        if opcode==1:\n",
    "            data[setPos] = val1+val2\n",
    "        elif opcode == 2: \n",
    "            data[setPos] = val1*val2\n",
    "        else:\n",
    "            raise('Error')\n",
    "        pos += 4\n",
    "    return data[0]\n",
    "print(getCode(data))  "
   ]
  },
  {
   "cell_type": "code",
   "execution_count": 27,
   "metadata": {},
   "outputs": [
    {
     "name": "stdout",
     "output_type": "stream",
     "text": [
      "8018\n"
     ]
    }
   ],
   "source": [
    "for noun in range(0,99):\n",
    "    for verb in range(0,99):\n",
    "        data = [int(tmp) for tmp in inStr.split(',')]\n",
    "        data[1] = noun\n",
    "        data[2] = verb\n",
    "        res = getCode(data)\n",
    "        if res == 19690720:\n",
    "            print(100 * noun + verb)"
   ]
  },
  {
   "cell_type": "code",
   "execution_count": null,
   "metadata": {},
   "outputs": [],
   "source": []
  }
 ],
 "metadata": {
  "kernelspec": {
   "display_name": "Python 3",
   "language": "python",
   "name": "python3"
  },
  "language_info": {
   "codemirror_mode": {
    "name": "ipython",
    "version": 3
   },
   "file_extension": ".py",
   "mimetype": "text/x-python",
   "name": "python",
   "nbconvert_exporter": "python",
   "pygments_lexer": "ipython3",
   "version": "3.6.8"
  }
 },
 "nbformat": 4,
 "nbformat_minor": 2
}
